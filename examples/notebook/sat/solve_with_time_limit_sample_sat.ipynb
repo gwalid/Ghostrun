{
  "cells": [
    {
      "cell_type": "markdown",
      "id": "google",
      "metadata": {
        "id": "google"
      },
      "source": [
        "##### Copyright 2024 Google LLC."
      ]
    },
    {
      "cell_type": "markdown",
      "id": "apache",
      "metadata": {
        "id": "apache"
      },
      "source": [
        "Licensed under the Apache License, Version 2.0 (the \"License\");\n",
        "you may not use this file except in compliance with the License.\n",
        "You may obtain a copy of the License at\n",
        "\n",
        "    http://www.apache.org/licenses/LICENSE-2.0\n",
        "\n",
        "Unless required by applicable law or agreed to in writing, software\n",
        "distributed under the License is distributed on an \"AS IS\" BASIS,\n",
        "WITHOUT WARRANTIES OR CONDITIONS OF ANY KIND, either express or implied.\n",
        "See the License for the specific language governing permissions and\n",
        "limitations under the License.\n"
      ]
    },
    {
      "cell_type": "markdown",
      "id": "basename",
      "metadata": {
        "id": "basename"
      },
      "source": [
        "# solve_with_time_limit_sample_sat"
      ]
    },
    {
      "cell_type": "markdown",
      "id": "link",
      "metadata": {
        "id": "link"
      },
      "source": [
        "<table align=\"left\">\n",
        "<td>\n",
        "<a href=\"https://colab.research.google.com/github/google/or-tools/blob/main/examples/notebook/sat/solve_with_time_limit_sample_sat.ipynb\"><img src=\"https://raw.githubusercontent.com/google/or-tools/main/tools/colab_32px.png\"/>Run in Google Colab</a>\n",
        "</td>\n",
        "<td>\n",
        "<a href=\"https://github.com/google/or-tools/blob/main/ortools/sat/samples/solve_with_time_limit_sample_sat.py\"><img src=\"https://raw.githubusercontent.com/google/or-tools/main/tools/github_32px.png\"/>View source on GitHub</a>\n",
        "</td>\n",
        "</table>"
      ]
    },
    {
      "cell_type": "markdown",
      "id": "doc",
      "metadata": {
        "id": "doc"
      },
      "source": [
        "First, you must install [ortools](https://pypi.org/project/ortools/) package in this colab."
      ]
    },
    {
      "cell_type": "code",
      "execution_count": 2,
      "id": "install",
      "metadata": {
        "colab": {
          "base_uri": "https://localhost:8080/"
        },
        "id": "install",
        "outputId": "e1a036f2-df3b-4991-c983-79292f4a6317"
      },
      "outputs": [
        {
          "output_type": "stream",
          "name": "stdout",
          "text": [
            "Collecting ortools\n",
            "  Downloading ortools-9.11.4210-cp310-cp310-manylinux_2_17_x86_64.manylinux2014_x86_64.whl.metadata (3.0 kB)\n",
            "Collecting absl-py>=2.0.0 (from ortools)\n",
            "  Downloading absl_py-2.1.0-py3-none-any.whl.metadata (2.3 kB)\n",
            "Requirement already satisfied: numpy>=1.13.3 in /usr/local/lib/python3.10/dist-packages (from ortools) (1.26.4)\n",
            "Requirement already satisfied: pandas>=2.0.0 in /usr/local/lib/python3.10/dist-packages (from ortools) (2.2.2)\n",
            "Collecting protobuf<5.27,>=5.26.1 (from ortools)\n",
            "  Downloading protobuf-5.26.1-cp37-abi3-manylinux2014_x86_64.whl.metadata (592 bytes)\n",
            "Requirement already satisfied: immutabledict>=3.0.0 in /usr/local/lib/python3.10/dist-packages (from ortools) (4.2.1)\n",
            "Requirement already satisfied: python-dateutil>=2.8.2 in /usr/local/lib/python3.10/dist-packages (from pandas>=2.0.0->ortools) (2.8.2)\n",
            "Requirement already satisfied: pytz>=2020.1 in /usr/local/lib/python3.10/dist-packages (from pandas>=2.0.0->ortools) (2024.2)\n",
            "Requirement already satisfied: tzdata>=2022.7 in /usr/local/lib/python3.10/dist-packages (from pandas>=2.0.0->ortools) (2024.2)\n",
            "Requirement already satisfied: six>=1.5 in /usr/local/lib/python3.10/dist-packages (from python-dateutil>=2.8.2->pandas>=2.0.0->ortools) (1.16.0)\n",
            "Downloading ortools-9.11.4210-cp310-cp310-manylinux_2_17_x86_64.manylinux2014_x86_64.whl (28.1 MB)\n",
            "\u001b[2K   \u001b[90m━━━━━━━━━━━━━━━━━━━━━━━━━━━━━━━━━━━━━━━━\u001b[0m \u001b[32m28.1/28.1 MB\u001b[0m \u001b[31m62.5 MB/s\u001b[0m eta \u001b[36m0:00:00\u001b[0m\n",
            "\u001b[?25hDownloading absl_py-2.1.0-py3-none-any.whl (133 kB)\n",
            "\u001b[2K   \u001b[90m━━━━━━━━━━━━━━━━━━━━━━━━━━━━━━━━━━━━━━━━\u001b[0m \u001b[32m133.7/133.7 kB\u001b[0m \u001b[31m10.1 MB/s\u001b[0m eta \u001b[36m0:00:00\u001b[0m\n",
            "\u001b[?25hDownloading protobuf-5.26.1-cp37-abi3-manylinux2014_x86_64.whl (302 kB)\n",
            "\u001b[2K   \u001b[90m━━━━━━━━━━━━━━━━━━━━━━━━━━━━━━━━━━━━━━━━\u001b[0m \u001b[32m302.8/302.8 kB\u001b[0m \u001b[31m20.3 MB/s\u001b[0m eta \u001b[36m0:00:00\u001b[0m\n",
            "\u001b[?25hInstalling collected packages: protobuf, absl-py, ortools\n",
            "  Attempting uninstall: protobuf\n",
            "    Found existing installation: protobuf 4.25.5\n",
            "    Uninstalling protobuf-4.25.5:\n",
            "      Successfully uninstalled protobuf-4.25.5\n",
            "  Attempting uninstall: absl-py\n",
            "    Found existing installation: absl-py 1.4.0\n",
            "    Uninstalling absl-py-1.4.0:\n",
            "      Successfully uninstalled absl-py-1.4.0\n",
            "\u001b[31mERROR: pip's dependency resolver does not currently take into account all the packages that are installed. This behaviour is the source of the following dependency conflicts.\n",
            "tensorflow 2.17.1 requires protobuf!=4.21.0,!=4.21.1,!=4.21.2,!=4.21.3,!=4.21.4,!=4.21.5,<5.0.0dev,>=3.20.3, but you have protobuf 5.26.1 which is incompatible.\n",
            "tensorflow-metadata 1.13.1 requires absl-py<2.0.0,>=0.9, but you have absl-py 2.1.0 which is incompatible.\n",
            "tensorflow-metadata 1.13.1 requires protobuf<5,>=3.20.3, but you have protobuf 5.26.1 which is incompatible.\u001b[0m\u001b[31m\n",
            "\u001b[0mSuccessfully installed absl-py-2.1.0 ortools-9.11.4210 protobuf-5.26.1\n"
          ]
        }
      ],
      "source": [
        "%pip install ortools"
      ]
    },
    {
      "cell_type": "markdown",
      "id": "description",
      "metadata": {
        "id": "description"
      },
      "source": [
        "\n",
        "Solves a problem with a time limit.\n"
      ]
    },
    {
      "cell_type": "code",
      "execution_count": 3,
      "id": "code",
      "metadata": {
        "colab": {
          "base_uri": "https://localhost:8080/"
        },
        "id": "code",
        "outputId": "c4f938ae-e6df-4e24-a45d-4643e4b462ea"
      },
      "outputs": [
        {
          "output_type": "stream",
          "name": "stdout",
          "text": [
            "x = 1\n",
            "y = 0\n",
            "z = 0\n"
          ]
        }
      ],
      "source": [
        "from ortools.sat.python import cp_model\n",
        "\n",
        "\n",
        "def solve_with_time_limit_sample_sat():\n",
        "    \"\"\"Minimal CP-SAT example to showcase calling the solver.\"\"\"\n",
        "    # Creates the model.\n",
        "    model = cp_model.CpModel()\n",
        "    # Creates the variables.\n",
        "    num_vals = 3\n",
        "    x = model.new_int_var(0, num_vals - 1, \"x\")\n",
        "    y = model.new_int_var(0, num_vals - 1, \"y\")\n",
        "    z = model.new_int_var(0, num_vals - 1, \"z\")\n",
        "    # Adds an all-different constraint.\n",
        "    model.add(x != y)\n",
        "\n",
        "    # Creates a solver and solves the model.\n",
        "    solver = cp_model.CpSolver()\n",
        "\n",
        "    # Sets a time limit of 10 seconds.\n",
        "    solver.parameters.max_time_in_seconds = 10.0\n",
        "\n",
        "    status = solver.solve(model)\n",
        "\n",
        "    if status == cp_model.OPTIMAL:\n",
        "        print(f\"x = {solver.value(x)}\")\n",
        "        print(f\"y = {solver.value(y)}\")\n",
        "        print(f\"z = {solver.value(z)}\")\n",
        "\n",
        "\n",
        "solve_with_time_limit_sample_sat()\n",
        "\n"
      ]
    },
    {
      "cell_type": "code",
      "source": [],
      "metadata": {
        "id": "yd34GwwNlSAj"
      },
      "id": "yd34GwwNlSAj",
      "execution_count": null,
      "outputs": []
    }
  ],
  "metadata": {
    "colab": {
      "provenance": []
    },
    "language_info": {
      "name": "python"
    },
    "kernelspec": {
      "name": "python3",
      "display_name": "Python 3"
    }
  },
  "nbformat": 4,
  "nbformat_minor": 5
}